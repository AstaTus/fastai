{
 "cells": [
  {
   "cell_type": "code",
   "execution_count": 6,
   "metadata": {},
   "outputs": [],
   "source": [
    "from sklearn.model_selection import train_test_split\n",
    "import shutil\n",
    "import os"
   ]
  },
  {
   "cell_type": "code",
   "execution_count": 16,
   "metadata": {},
   "outputs": [],
   "source": [
    "SRC_DATA_ROOT_PATH = \"/home/astatus/project/fastai/mine/Plant-Seedlings-Classification/data/\"\n",
    "ALL_DATA_DIR_NAME = \"all\"\n",
    "TRAIN_DIR_NAME = \"train\"\n",
    "VALID_DIR_NAME = \"valid\"\n",
    "\n",
    "ALL_DATA_PATH = SRC_DATA_ROOT_PATH + ALL_DATA_DIR_NAME\n",
    "TRAIN_DATA_PATH = SRC_DATA_ROOT_PATH + TRAIN_DIR_NAME\n",
    "VALID_DATA_PATH = SRC_DATA_ROOT_PATH + VALID_DIR_NAME\n",
    "\n",
    "IMAGE_EXT = '.png'\n",
    "# train-set-size / (train-set-size + valid-set-size)\n",
    "RATIO = 0.7"
   ]
  },
  {
   "cell_type": "code",
   "execution_count": 17,
   "metadata": {},
   "outputs": [],
   "source": [
    "# Read all flower images (.jpg) from a folder\n",
    "# The function returns both the path of the flower image and the corresponding label\n",
    "# which is defined by the name of the foler in which the image is\n",
    "def read_images_from_dir(base_dir, folder):\n",
    "    path_folder = os.path.join(base_dir, folder)\n",
    "    files_directory = os.listdir(path_folder)\n",
    "    \n",
    "    labels = []\n",
    "    images = []\n",
    "    for file in files_directory:\n",
    "        if file.endswith(IMAGE_EXT):\n",
    "            labels.append(folder)\n",
    "            images.append(os.path.join(path_folder, file))\n",
    "    return labels, images\n",
    "\n",
    "def read_images(base_dir):\n",
    "    labels = []\n",
    "    images = []\n",
    "    folders = os.listdir(base_dir)\n",
    "    for folder in folders:\n",
    "        labels_folder, images_folder = read_images_from_dir(base_dir, folder)\n",
    "        labels.extend(labels_folder)\n",
    "        images.extend(images_folder)\n",
    "    return labels, images\n"
   ]
  },
  {
   "cell_type": "code",
   "execution_count": 18,
   "metadata": {},
   "outputs": [],
   "source": [
    "labels, images = read_images(ALL_DATA_PATH)"
   ]
  },
  {
   "cell_type": "code",
   "execution_count": 19,
   "metadata": {},
   "outputs": [],
   "source": [
    "images_train, images_test, labels_train, \\\n",
    "labels_test = train_test_split(images, labels, test_size=0.3, random_state=8, stratify=labels)"
   ]
  },
  {
   "cell_type": "code",
   "execution_count": 20,
   "metadata": {},
   "outputs": [],
   "source": [
    "def create_output_folders(train_folder, valid_folder):\n",
    "    \n",
    "    if os.path.exists(train_folder):\n",
    "        shutil.rmtree(train_folder)\n",
    "        \n",
    "    os.mkdir(train_folder)\n",
    "    for label in set(labels):\n",
    "        os.mkdir(train_folder + '/' + label)\n",
    "    \n",
    "    if os.path.exists(valid_folder):\n",
    "        shutil.rmtree(valid_folder)\n",
    "        \n",
    "    os.mkdir(valid_folder)\n",
    "    for label in set(labels):\n",
    "        os.mkdir(valid_folder + '/' + label)\n",
    "            \n",
    "def copy_files_to_train_and_validation_folders(train_folder, valid_folder, images_train, images_valid):  \n",
    "    print('Copy training files to directory')\n",
    "    for index, value in enumerate(images_train):\n",
    "        dest = os.path.join(train_folder, labels_train[index])\n",
    "        shutil.copy(value, dest)\n",
    "\n",
    "    print('Copy validation files to directory')        \n",
    "    for index, value in enumerate(images_valid):\n",
    "        shutil.copy(value, valid_folder + '/' + labels_test[index])\n",
    "    print('Copy Over!')"
   ]
  },
  {
   "cell_type": "code",
   "execution_count": 21,
   "metadata": {},
   "outputs": [
    {
     "name": "stdout",
     "output_type": "stream",
     "text": [
      "Copy training files to directory\n",
      "Copy validation files to directory\n",
      "Copy Over!\n"
     ]
    }
   ],
   "source": [
    "create_output_folders(TRAIN_DATA_PATH, VALID_DATA_PATH)\n",
    "copy_files_to_train_and_validation_folders(TRAIN_DATA_PATH, VALID_DATA_PATH, images_train, images_test)"
   ]
  },
  {
   "cell_type": "code",
   "execution_count": null,
   "metadata": {},
   "outputs": [],
   "source": []
  }
 ],
 "metadata": {
  "kernelspec": {
   "display_name": "Python 3",
   "language": "python",
   "name": "python3"
  },
  "language_info": {
   "codemirror_mode": {
    "name": "ipython",
    "version": 3
   },
   "file_extension": ".py",
   "mimetype": "text/x-python",
   "name": "python",
   "nbconvert_exporter": "python",
   "pygments_lexer": "ipython3",
   "version": "3.6.6"
  }
 },
 "nbformat": 4,
 "nbformat_minor": 2
}
